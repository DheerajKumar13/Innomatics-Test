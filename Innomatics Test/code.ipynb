{
 "cells": [
  {
   "cell_type": "code",
   "execution_count": 1,
   "metadata": {},
   "outputs": [
    {
     "data": {
      "text/plain": [
       "(9742, 3)"
      ]
     },
     "execution_count": 1,
     "metadata": {},
     "output_type": "execute_result"
    }
   ],
   "source": [
    "import pandas as pd\n",
    "df = pd.read_csv(r'C:\\Users\\homeofR\\OneDrive\\ドキュメント\\Innomatics Test\\movies.csv')\n",
    "df1 = pd.read_csv(r'C:\\Users\\homeofR\\OneDrive\\ドキュメント\\Innomatics Test\\ratings.csv')\n",
    "df.shape"
   ]
  },
  {
   "cell_type": "markdown",
   "metadata": {},
   "source": [
    "Shape of \"ratings.csv\""
   ]
  },
  {
   "cell_type": "code",
   "execution_count": 2,
   "metadata": {},
   "outputs": [
    {
     "data": {
      "text/plain": [
       "(100836, 4)"
      ]
     },
     "execution_count": 2,
     "metadata": {},
     "output_type": "execute_result"
    }
   ],
   "source": [
    "df1.shape"
   ]
  },
  {
   "cell_type": "markdown",
   "metadata": {},
   "source": [
    "Unique \"userId\" available in \"ratings.csv\""
   ]
  },
  {
   "cell_type": "code",
   "execution_count": 3,
   "metadata": {},
   "outputs": [
    {
     "name": "stdout",
     "output_type": "stream",
     "text": [
      "Number of unique userIds: 610\n"
     ]
    }
   ],
   "source": [
    "unique_user_ids = df1['userId'].nunique()\n",
    "\n",
    "print(f'Number of unique userIds: {unique_user_ids}')"
   ]
  },
  {
   "cell_type": "markdown",
   "metadata": {},
   "source": [
    "Maximum number of user ratings"
   ]
  },
  {
   "cell_type": "code",
   "execution_count": 4,
   "metadata": {},
   "outputs": [
    {
     "name": "stdout",
     "output_type": "stream",
     "text": [
      "                    title  rating\n",
      "3158  Forrest Gump (1994)     329\n"
     ]
    }
   ],
   "source": [
    "ratings_df = pd.read_csv(r'C:\\Users\\homeofR\\OneDrive\\ドキュメント\\Innomatics Test\\ratings.csv')\n",
    "movies_df = pd.read_csv(r'C:\\Users\\homeofR\\OneDrive\\ドキュメント\\Innomatics Test\\movies.csv')\n",
    "\n",
    "merged_df = pd.merge(ratings_df, movies_df, on='movieId')\n",
    "\n",
    "rating_counts = merged_df.groupby('title')['rating'].count().reset_index()\n",
    "\n",
    "rating_counts = rating_counts.sort_values(by='rating', ascending=False)\n",
    "\n",
    "print(rating_counts.head(1))"
   ]
  },
  {
   "cell_type": "markdown",
   "metadata": {},
   "source": [
    "Correct tags submitted by users to \"Matrix, The (1999)\" movie"
   ]
  },
  {
   "cell_type": "code",
   "execution_count": 5,
   "metadata": {},
   "outputs": [
    {
     "name": "stdout",
     "output_type": "stream",
     "text": [
      "['martial arts' 'sci-fi' 'alternate universe' 'philosophy'\n",
      " 'post apocalyptic']\n"
     ]
    }
   ],
   "source": [
    "\n",
    "ratings_df = pd.read_csv(r'C:\\Users\\homeofR\\OneDrive\\ドキュメント\\Innomatics Test\\ratings.csv')\n",
    "movies_df = pd.read_csv(r'C:\\Users\\homeofR\\OneDrive\\ドキュメント\\Innomatics Test\\movies.csv')\n",
    "tags_df = pd.read_csv(r'C:\\Users\\homeofR\\OneDrive\\ドキュメント\\Innomatics Test\\tags.csv')  # assuming tags are in a separate file\n",
    "\n",
    "\n",
    "merged_df = pd.merge(ratings_df, movies_df, on='movieId')\n",
    "\n",
    "\n",
    "matrix_df = merged_df[merged_df['title'] == 'Matrix, The (1999)']\n",
    "\n",
    "matrix_tags_df = pd.merge(matrix_df, tags_df, on='movieId')\n",
    "\n",
    "unique_tags = matrix_tags_df['tag'].unique()\n",
    "\n",
    "print(unique_tags)"
   ]
  },
  {
   "cell_type": "markdown",
   "metadata": {},
   "source": [
    "Average user rating for movie named \"Terminator 2: Judgment Day (1991)"
   ]
  },
  {
   "cell_type": "code",
   "execution_count": 6,
   "metadata": {},
   "outputs": [
    {
     "name": "stdout",
     "output_type": "stream",
     "text": [
      "Average user rating for 'Terminator 2: Judgment Day (1991)': 3.970982142857143\n"
     ]
    }
   ],
   "source": [
    "\n",
    "merged_df = pd.merge(ratings_df, movies_df, on='movieId')\n",
    "\n",
    "terminator_df = merged_df[merged_df['title'] == 'Terminator 2: Judgment Day (1991)']\n",
    "\n",
    "average_rating = terminator_df['rating'].mean()\n",
    "\n",
    "print(\"Average user rating for 'Terminator 2: Judgment Day (1991)':\", average_rating)"
   ]
  },
  {
   "cell_type": "markdown",
   "metadata": {},
   "source": [
    "Data distribution of user ratings for \"Fight Club (1999)\" movie"
   ]
  },
  {
   "cell_type": "code",
   "execution_count": 7,
   "metadata": {},
   "outputs": [
    {
     "data": {
      "image/png": "[encoded data removed]",
      "text/plain": [
       "<Figure size 640x480 with 1 Axes>"
      ]
     },
     "metadata": {},
     "output_type": "display_data"
    }
   ],
   "source": [
    "\n",
    "import matplotlib.pyplot as plt\n",
    "\n",
    "merged_df = pd.merge(ratings_df, movies_df, on='movieId')\n",
    "\n",
    "fight_club_df = merged_df[merged_df['title'] == 'Fight Club (1999)']\n",
    "\n",
    "plt.hist(fight_club_df['rating'], bins=10, edgecolor='black')\n",
    "plt.xlabel('Rating')\n",
    "plt.ylabel('Frequency')\n",
    "plt.title('Distribution of User Ratings for \"Fight Club (1999)\"')\n",
    "plt.show()"
   ]
  },
  {
   "cell_type": "code",
   "execution_count": 8,
   "metadata": {},
   "outputs": [
    {
     "name": "stdout",
     "output_type": "stream",
     "text": [
      "   movieId                    title  \\\n",
      "0        1         Toy Story (1995)   \n",
      "1        2           Jumanji (1995)   \n",
      "2        3  Grumpier Old Men (1995)   \n",
      "5        6              Heat (1995)   \n",
      "6        7           Sabrina (1995)   \n",
      "\n",
      "                                        genres  rating_count  rating_mean  \n",
      "0  Adventure|Animation|Children|Comedy|Fantasy           215     3.920930  \n",
      "1                   Adventure|Children|Fantasy           110     3.431818  \n",
      "2                               Comedy|Romance            52     3.259615  \n",
      "5                        Action|Crime|Thriller           102     3.946078  \n",
      "6                               Comedy|Romance            54     3.185185  \n"
     ]
    }
   ],
   "source": [
    "\n",
    "grouped_ratings_df = ratings_df.groupby('movieId')['rating'].agg(['count', 'mean']).reset_index()\n",
    "grouped_ratings_df.columns = ['movieId', 'rating_count', 'rating_mean']\n",
    "\n",
    "\n",
    "merged_df = pd.merge(movies_df, grouped_ratings_df, on='movieId', how='inner')\n",
    "\n",
    "filtered_df = merged_df[merged_df['rating_count'] > 50]\n",
    "\n",
    "print(filtered_df.head())"
   ]
  },
  {
   "cell_type": "markdown",
   "metadata": {},
   "source": [
    "Most popular based on  average user ratings"
   ]
  },
  {
   "cell_type": "code",
   "execution_count": 9,
   "metadata": {},
   "outputs": [
    {
     "name": "stdout",
     "output_type": "stream",
     "text": [
      "The most popular movie is: Shawshank Redemption, The (1994)\n"
     ]
    }
   ],
   "source": [
    "\n",
    "sorted_df = filtered_df.sort_values(by='rating_mean', ascending=False)\n",
    "\n",
    "most_popular_movie = sorted_df.iloc[0]\n",
    "\n",
    "print(\"The most popular movie is:\", most_popular_movie['title'])"
   ]
  },
  {
   "cell_type": "markdown",
   "metadata": {},
   "source": [
    "Top 5 popular movies based on number of user ratings."
   ]
  },
  {
   "cell_type": "code",
   "execution_count": 10,
   "metadata": {},
   "outputs": [
    {
     "name": "stdout",
     "output_type": "stream",
     "text": [
      "The top 5 popular movies based on number of user ratings are:\n",
      "314                  Forrest Gump (1994)\n",
      "277     Shawshank Redemption, The (1994)\n",
      "257                  Pulp Fiction (1994)\n",
      "510     Silence of the Lambs, The (1991)\n",
      "1938                  Matrix, The (1999)\n",
      "Name: title, dtype: object\n"
     ]
    }
   ],
   "source": [
    "sorted_df = filtered_df.sort_values(by='rating_count', ascending=False)\n",
    "\n",
    "top_5_movies = sorted_df.head(5)\n",
    "\n",
    "print(\"The top 5 popular movies based on number of user ratings are:\")\n",
    "print(top_5_movies['title'])"
   ]
  },
  {
   "cell_type": "markdown",
   "metadata": {},
   "source": [
    "\"Third most popular\" based on the number of user ratings"
   ]
  },
  {
   "cell_type": "code",
   "execution_count": 11,
   "metadata": {},
   "outputs": [
    {
     "name": "stdout",
     "output_type": "stream",
     "text": [
      "The third most popular Sci-Fi movie is: Jurassic Park (1993)\n"
     ]
    }
   ],
   "source": [
    "sci_fi_movies = filtered_df[filtered_df['genres'].str.contains('Sci-Fi')]\n",
    "\n",
    "sorted_sci_fi_movies = sci_fi_movies.sort_values(by='rating_count', ascending=False)\n",
    "\n",
    "\n",
    "third_most_popular_sci_fi_movie = sorted_sci_fi_movies.iloc[2]\n",
    "\n",
    "print(\"The third most popular Sci-Fi movie is:\", third_most_popular_sci_fi_movie['title'])"
   ]
  },
  {
   "cell_type": "markdown",
   "metadata": {},
   "source": [
    "MovieId of the movie which has the highest IMDB rating"
   ]
  },
  {
   "cell_type": "code",
   "execution_count": 12,
   "metadata": {},
   "outputs": [
    {
     "data": {
      "text/html": [
       "<div>\n",
       "<style scoped>\n",
       "    .dataframe tbody tr th:only-of-type {\n",
       "        vertical-align: middle;\n",
       "    }\n",
       "\n",
       "    .dataframe tbody tr th {\n",
       "        vertical-align: top;\n",
       "    }\n",
       "\n",
       "    .dataframe thead th {\n",
       "        text-align: right;\n",
       "    }\n",
       "</style>\n",
       "<table border=\"1\" class=\"dataframe\">\n",
       "  <thead>\n",
       "    <tr style=\"text-align: right;\">\n",
       "      <th></th>\n",
       "      <th>movieId</th>\n",
       "      <th>title</th>\n",
       "      <th>genres</th>\n",
       "      <th>rating_count</th>\n",
       "      <th>rating_mean</th>\n",
       "      <th>imdbId</th>\n",
       "    </tr>\n",
       "  </thead>\n",
       "  <tbody>\n",
       "    <tr>\n",
       "      <th>0</th>\n",
       "      <td>1</td>\n",
       "      <td>Toy Story (1995)</td>\n",
       "      <td>Adventure|Animation|Children|Comedy|Fantasy</td>\n",
       "      <td>215</td>\n",
       "      <td>3.920930</td>\n",
       "      <td>114709</td>\n",
       "    </tr>\n",
       "    <tr>\n",
       "      <th>1</th>\n",
       "      <td>2</td>\n",
       "      <td>Jumanji (1995)</td>\n",
       "      <td>Adventure|Children|Fantasy</td>\n",
       "      <td>110</td>\n",
       "      <td>3.431818</td>\n",
       "      <td>113497</td>\n",
       "    </tr>\n",
       "    <tr>\n",
       "      <th>2</th>\n",
       "      <td>3</td>\n",
       "      <td>Grumpier Old Men (1995)</td>\n",
       "      <td>Comedy|Romance</td>\n",
       "      <td>52</td>\n",
       "      <td>3.259615</td>\n",
       "      <td>113228</td>\n",
       "    </tr>\n",
       "    <tr>\n",
       "      <th>3</th>\n",
       "      <td>6</td>\n",
       "      <td>Heat (1995)</td>\n",
       "      <td>Action|Crime|Thriller</td>\n",
       "      <td>102</td>\n",
       "      <td>3.946078</td>\n",
       "      <td>113277</td>\n",
       "    </tr>\n",
       "    <tr>\n",
       "      <th>4</th>\n",
       "      <td>7</td>\n",
       "      <td>Sabrina (1995)</td>\n",
       "      <td>Comedy|Romance</td>\n",
       "      <td>54</td>\n",
       "      <td>3.185185</td>\n",
       "      <td>114319</td>\n",
       "    </tr>\n",
       "  </tbody>\n",
       "</table>\n",
       "</div>"
      ],
      "text/plain": [
       "   movieId                    title  \\\n",
       "0        1         Toy Story (1995)   \n",
       "1        2           Jumanji (1995)   \n",
       "2        3  Grumpier Old Men (1995)   \n",
       "3        6              Heat (1995)   \n",
       "4        7           Sabrina (1995)   \n",
       "\n",
       "                                        genres  rating_count  rating_mean  \\\n",
       "0  Adventure|Animation|Children|Comedy|Fantasy           215     3.920930   \n",
       "1                   Adventure|Children|Fantasy           110     3.431818   \n",
       "2                               Comedy|Romance            52     3.259615   \n",
       "3                        Action|Crime|Thriller           102     3.946078   \n",
       "4                               Comedy|Romance            54     3.185185   \n",
       "\n",
       "   imdbId  \n",
       "0  114709  \n",
       "1  113497  \n",
       "2  113228  \n",
       "3  113277  \n",
       "4  114319  "
      ]
     },
     "execution_count": 12,
     "metadata": {},
     "output_type": "execute_result"
    }
   ],
   "source": [
    "links_data = pd.read_csv(r'C:\\Users\\homeofR\\OneDrive\\ドキュメント\\Innomatics Test\\links.csv')\n",
    "\n",
    "filtered_data_with_imdb = pd.merge(filtered_df, links_data[['movieId', 'imdbId']], on='movieId', how='left')\n",
    "\n",
    "# Display the resulting dataset with the new 'imdbId' column\n",
    "filtered_data_with_imdb.head()"
   ]
  },
  {
   "cell_type": "code",
   "execution_count": 13,
   "metadata": {},
   "outputs": [],
   "source": [
    "import requests\n",
    "import numpy as np\n",
    "from bs4 import BeautifulSoup  \n",
    "def scrapper(imdbId):\n",
    "    id = str(int(imdbId))\n",
    "    n_zeroes = 7 - len(id)\n",
    "    new_id = \"0\"*n_zeroes + id\n",
    "    URL = f\"https://www.imdb.com/title/tt{new_id}/\"\n",
    "    request_header = {'Content-Type': 'text/html; charset=UTF-8', \n",
    "                      'User-Agent': 'Mozilla/5.0 (Windows NT 10.0; Win64; x64; rv:109.0) Gecko/20100101 Firefox/119.0', \n",
    "                      'Accept-Encoding': 'gzip, deflate, br'}\n",
    "    response = requests.get(URL, headers=request_header)  \n",
    "    soup = BeautifulSoup(response.text, 'html.parser')  \n",
    "    imdb_rating = soup.find('span', {'itemprop': 'ratingValue'})  \n",
    "    return imdb_rating.text if imdb_rating else np.nan"
   ]
  },
  {
   "cell_type": "code",
   "execution_count": 14,
   "metadata": {},
   "outputs": [],
   "source": [
    "filtered_data_with_imdb['imdb_rating'] = filtered_data_with_imdb['imdbId'].apply(scrapper)\n",
    "max_rating_row = filtered_data_with_imdb.loc[filtered_data_with_imdb['imdb_rating'].idxmax()]\n",
    "movieId_with_highest_rating = max_rating_row['movieId']\n",
    "\n",
    "print(\"The movieId of the movie with the highest IMDB rating is:\", movieId_with_highest_rating)"
   ]
  },
  {
   "cell_type": "markdown",
   "metadata": {},
   "source": [
    "MovieId of the \"Sci-Fi\" movie which has the highest IMDB rating"
   ]
  },
  {
   "cell_type": "code",
   "execution_count": null,
   "metadata": {},
   "outputs": [],
   "source": [
    "\n",
    "# Filtering the DataFrame for Sci-Fi genre\n",
    "sci_fi_movies = imdb_data_filtered[imdb_data_filtered['Genre'].str.contains('Sci-Fi', case=False)]\n",
    "\n",
    "# Finding the highest-rated Sci-Fi movie\n",
    "highest_rated_sci_fi_movie = sci_fi_movies.loc[sci_fi_movies['IMDB_Rating'].idxmax()]\n",
    "highest_rated_sci_fi_movie_title = highest_rated_sci_fi_movie['Series_Title']\n",
    "\n",
    "print(\"Highest-rated Sci-Fi movie:\")\n",
    "print(highest_rated_sci_fi_movie_title)\n",
    "\n",
    "movie_id_inception = filtered_data_with_imdb.loc[filtered_data_with_imdb['title'] == 'Inception (2010)', 'movieId'].values[0]\n",
    "\n",
    "print(f\"The 'movieId' of 'Inception' is: \",{movie_id_inception})"
   ]
  }
 ],
 "metadata": {
  "kernelspec": {
   "display_name": "Python 3",
   "language": "python",
   "name": "python3"
  },
  "language_info": {
   "codemirror_mode": {
    "name": "ipython",
    "version": 3
   },
   "file_extension": ".py",
   "mimetype": "text/x-python",
   "name": "python",
   "nbconvert_exporter": "python",
   "pygments_lexer": "ipython3",
   "version": "3.11.7"
  }
 },
 "nbformat": 4,
 "nbformat_minor": 2
}
